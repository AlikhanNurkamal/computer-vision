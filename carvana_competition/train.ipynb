{
 "cells": [
  {
   "cell_type": "code",
   "execution_count": 1,
   "id": "3c9e10d5",
   "metadata": {
    "_cell_guid": "b1076dfc-b9ad-4769-8c92-a6c4dae69d19",
    "_uuid": "8f2839f25d086af736a60e9eeb907d3b93b6e0e5",
    "execution": {
     "iopub.execute_input": "2023-11-03T08:33:14.568591Z",
     "iopub.status.busy": "2023-11-03T08:33:14.567860Z",
     "iopub.status.idle": "2023-11-03T08:33:20.297602Z",
     "shell.execute_reply": "2023-11-03T08:33:20.296834Z"
    },
    "papermill": {
     "duration": 5.739476,
     "end_time": "2023-11-03T08:33:20.299946",
     "exception": false,
     "start_time": "2023-11-03T08:33:14.560470",
     "status": "completed"
    },
    "tags": []
   },
   "outputs": [
    {
     "name": "stderr",
     "output_type": "stream",
     "text": [
      "/opt/conda/lib/python3.10/site-packages/scipy/__init__.py:146: UserWarning: A NumPy version >=1.16.5 and <1.23.0 is required for this version of SciPy (detected version 1.23.5\n",
      "  warnings.warn(f\"A NumPy version >={np_minversion} and <{np_maxversion}\"\n"
     ]
    }
   ],
   "source": [
    "import os\n",
    "import numpy as np\n",
    "from glob import glob\n",
    "from tqdm import tqdm\n",
    "import random\n",
    "\n",
    "import torch\n",
    "import torch.nn as nn\n",
    "import torchvision.transforms.functional as F\n",
    "from torch.utils.data import Dataset, DataLoader\n",
    "\n",
    "from PIL import Image\n",
    "import albumentations as A\n",
    "from albumentations.pytorch import ToTensorV2\n",
    "\n",
    "import matplotlib.pyplot as plt\n",
    "%matplotlib inline"
   ]
  },
  {
   "cell_type": "code",
   "execution_count": 2,
   "id": "918c5642",
   "metadata": {
    "execution": {
     "iopub.execute_input": "2023-11-03T08:33:20.312970Z",
     "iopub.status.busy": "2023-11-03T08:33:20.312581Z",
     "iopub.status.idle": "2023-11-03T08:33:20.318209Z",
     "shell.execute_reply": "2023-11-03T08:33:20.317361Z"
    },
    "papermill": {
     "duration": 0.014296,
     "end_time": "2023-11-03T08:33:20.320214",
     "exception": false,
     "start_time": "2023-11-03T08:33:20.305918",
     "status": "completed"
    },
    "tags": []
   },
   "outputs": [],
   "source": [
    "def set_seed(seed_value=42):\n",
    "    \"\"\"Set seed for reproducibility.\"\"\"\n",
    "    random.seed(seed_value)\n",
    "    np.random.seed(seed_value)\n",
    "    torch.manual_seed(seed_value)\n",
    "\n",
    "    # If you are using GPU\n",
    "    if torch.cuda.is_available():\n",
    "        torch.cuda.manual_seed_all(seed_value)\n",
    "        torch.backends.cudnn.deterministic = True\n",
    "        torch.backends.cudnn.benchmark = False"
   ]
  },
  {
   "cell_type": "code",
   "execution_count": 3,
   "id": "7b12b788",
   "metadata": {
    "execution": {
     "iopub.execute_input": "2023-11-03T08:33:20.331874Z",
     "iopub.status.busy": "2023-11-03T08:33:20.331585Z",
     "iopub.status.idle": "2023-11-03T08:33:20.399229Z",
     "shell.execute_reply": "2023-11-03T08:33:20.398318Z"
    },
    "papermill": {
     "duration": 0.07573,
     "end_time": "2023-11-03T08:33:20.401313",
     "exception": false,
     "start_time": "2023-11-03T08:33:20.325583",
     "status": "completed"
    },
    "tags": []
   },
   "outputs": [],
   "source": [
    "# Hyperparameters\n",
    "IMG_HEIGHT = 160\n",
    "IMG_WIDTH = 240\n",
    "LEARNING_RATE = 0.0001\n",
    "BATCH_SIZE = 32\n",
    "EPOCHS = 50\n",
    "PATIENCE = 7\n",
    "DEVICE = torch.device('cuda') if torch.cuda.is_available() else torch.device('cpu')\n",
    "set_seed(42)"
   ]
  },
  {
   "cell_type": "code",
   "execution_count": 4,
   "id": "363e42e6",
   "metadata": {
    "execution": {
     "iopub.execute_input": "2023-11-03T08:33:20.413492Z",
     "iopub.status.busy": "2023-11-03T08:33:20.413208Z",
     "iopub.status.idle": "2023-11-03T08:33:20.417395Z",
     "shell.execute_reply": "2023-11-03T08:33:20.416536Z"
    },
    "papermill": {
     "duration": 0.012363,
     "end_time": "2023-11-03T08:33:20.419354",
     "exception": false,
     "start_time": "2023-11-03T08:33:20.406991",
     "status": "completed"
    },
    "tags": []
   },
   "outputs": [],
   "source": [
    "TRAIN_IMG_DIR = '/kaggle/input/vehicles-semantic-segmentation/data/train/images'\n",
    "TRAIN_MASK_DIR = '/kaggle/input/vehicles-semantic-segmentation/data/train/masks'\n",
    "\n",
    "VAL_IMG_DIR = '/kaggle/input/vehicles-semantic-segmentation/data/val/images'\n",
    "VAL_MASK_DIR = '/kaggle/input/vehicles-semantic-segmentation/data/val/masks'"
   ]
  },
  {
   "cell_type": "code",
   "execution_count": 5,
   "id": "81e5fd12",
   "metadata": {
    "execution": {
     "iopub.execute_input": "2023-11-03T08:33:20.431107Z",
     "iopub.status.busy": "2023-11-03T08:33:20.430783Z",
     "iopub.status.idle": "2023-11-03T08:33:20.439402Z",
     "shell.execute_reply": "2023-11-03T08:33:20.438525Z"
    },
    "papermill": {
     "duration": 0.016513,
     "end_time": "2023-11-03T08:33:20.441209",
     "exception": false,
     "start_time": "2023-11-03T08:33:20.424696",
     "status": "completed"
    },
    "tags": []
   },
   "outputs": [],
   "source": [
    "class MyDataset(Dataset):\n",
    "    def __init__(self, img_dir, mask_dir, transform=None, random_state=None):\n",
    "        super().__init__()\n",
    "        if random_state:\n",
    "            set_seed(random_state)\n",
    "            \n",
    "        self.img_dir = img_dir\n",
    "        self.mask_dir = mask_dir\n",
    "        self.transform = transform\n",
    "\n",
    "        self.images = os.listdir(img_dir)\n",
    "\n",
    "    def __len__(self):\n",
    "        return len(self.images)\n",
    "\n",
    "    def __getitem__(self, index):\n",
    "        img_path = os.path.join(self.img_dir, self.images[index])\n",
    "        mask_path = os.path.join(self.mask_dir, self.images[index].replace('.jpg', '_mask.gif'))\n",
    "\n",
    "        image = np.array(Image.open(img_path).convert('RGB'))\n",
    "        mask = np.array(Image.open(mask_path).convert('L'), dtype=np.float32)\n",
    "        mask[mask == 255.0] = 1.0\n",
    "\n",
    "        if self.transform:\n",
    "            augmentations = self.transform(image=image, mask=mask)\n",
    "            image = augmentations['image']\n",
    "            mask = augmentations['mask']\n",
    "\n",
    "        return image, mask"
   ]
  },
  {
   "cell_type": "code",
   "execution_count": 6,
   "id": "6dd6f133",
   "metadata": {
    "execution": {
     "iopub.execute_input": "2023-11-03T08:33:20.452966Z",
     "iopub.status.busy": "2023-11-03T08:33:20.452532Z",
     "iopub.status.idle": "2023-11-03T08:33:20.459356Z",
     "shell.execute_reply": "2023-11-03T08:33:20.458489Z"
    },
    "papermill": {
     "duration": 0.014759,
     "end_time": "2023-11-03T08:33:20.461309",
     "exception": false,
     "start_time": "2023-11-03T08:33:20.446550",
     "status": "completed"
    },
    "tags": []
   },
   "outputs": [],
   "source": [
    "train_transforms = A.Compose([\n",
    "    A.Resize(height=IMG_HEIGHT, width=IMG_WIDTH),\n",
    "    A.Rotate(limit=35, p=0.5),\n",
    "    A.HorizontalFlip(p=0.3),\n",
    "    A.VerticalFlip(p=0.3),\n",
    "    A.Normalize(\n",
    "        mean=[0.0, 0.0, 0.0],\n",
    "        std=[1.0, 1.0, 1.0],\n",
    "        max_pixel_value=255.0\n",
    "    ),\n",
    "    ToTensorV2(),\n",
    "])\n",
    "\n",
    "val_transforms = A.Compose([\n",
    "    A.Resize(height=IMG_HEIGHT, width=IMG_WIDTH),\n",
    "    A.Normalize(\n",
    "        mean=[0.0, 0.0, 0.0],\n",
    "        std=[1.0, 1.0, 1.0],\n",
    "        max_pixel_value=255.0\n",
    "    ),\n",
    "    ToTensorV2(),\n",
    "])"
   ]
  },
  {
   "cell_type": "code",
   "execution_count": 7,
   "id": "ad24f1bb",
   "metadata": {
    "execution": {
     "iopub.execute_input": "2023-11-03T08:33:20.473126Z",
     "iopub.status.busy": "2023-11-03T08:33:20.472874Z",
     "iopub.status.idle": "2023-11-03T08:33:20.486513Z",
     "shell.execute_reply": "2023-11-03T08:33:20.485801Z"
    },
    "papermill": {
     "duration": 0.021735,
     "end_time": "2023-11-03T08:33:20.488380",
     "exception": false,
     "start_time": "2023-11-03T08:33:20.466645",
     "status": "completed"
    },
    "tags": []
   },
   "outputs": [],
   "source": [
    "class DoubleConv(nn.Module):\n",
    "    def __init__(self, in_channels, out_channels):\n",
    "        super(DoubleConv, self).__init__()\n",
    "        self.conv = nn.Sequential(\n",
    "            nn.Conv2d(in_channels, out_channels, kernel_size=3, stride=1, padding=1, bias=False),\n",
    "            nn.BatchNorm2d(out_channels),\n",
    "            nn.ReLU(inplace=True),\n",
    "            nn.Conv2d(out_channels, out_channels, kernel_size=3, stride=1, padding=1, bias=False),\n",
    "            nn.BatchNorm2d(out_channels),\n",
    "            nn.ReLU(inplace=True)\n",
    "        )\n",
    "\n",
    "    def forward(self, x):\n",
    "        return self.conv(x)\n",
    "\n",
    "class UNet(nn.Module):\n",
    "    def __init__(self, in_channels=3, out_channels=1, features=(64, 128, 256, 512), random_state=None):\n",
    "        super(UNet, self).__init__()\n",
    "        \n",
    "        if random_state:\n",
    "            set_seed(random_state)\n",
    "\n",
    "        self.downs = nn.ModuleList()\n",
    "        self.ups = nn.ModuleList()\n",
    "        self.pool = nn.MaxPool2d(kernel_size=2, stride=2)\n",
    "\n",
    "        # Down part of Unet\n",
    "        for feature in features:\n",
    "            self.downs.append(DoubleConv(in_channels, feature))\n",
    "            in_channels = feature\n",
    "\n",
    "        # Up part of Unet\n",
    "        for feature in reversed(features):\n",
    "            self.ups.append(\n",
    "                nn.ConvTranspose2d(feature * 2, feature, kernel_size=2, stride=2)\n",
    "            )\n",
    "            self.ups.append(DoubleConv(feature * 2, feature))\n",
    "\n",
    "        # Bottleneck layer\n",
    "        self.bottleneck = DoubleConv(features[-1], features[-1] * 2)\n",
    "\n",
    "        # Final conv to change the number of channels (do not change HxW)\n",
    "        self.final_conv = nn.Conv2d(features[0], out_channels, kernel_size=1)\n",
    "\n",
    "    def forward(self, x):\n",
    "        skip_connections = []\n",
    "\n",
    "        for down in self.downs:\n",
    "            x = down(x)\n",
    "            skip_connections.append(x)\n",
    "            x = self.pool(x)\n",
    "\n",
    "        x = self.bottleneck(x)\n",
    "        skip_connections = skip_connections[::-1]\n",
    "\n",
    "        for index in range(0, len(self.ups), 2):\n",
    "            x = self.ups[index](x)\n",
    "            skip_connection = skip_connections[index // 2]\n",
    "\n",
    "            if x.shape != skip_connection.shape:\n",
    "                x = F.resize(x, size=skip_connection.shape[2:], antialias=True)\n",
    "\n",
    "            concat_skip = torch.cat((skip_connection, x), dim=1)\n",
    "            x = self.ups[index + 1](concat_skip)\n",
    "\n",
    "        x = self.final_conv(x)\n",
    "\n",
    "        return x"
   ]
  },
  {
   "cell_type": "code",
   "execution_count": 8,
   "id": "d342d56e",
   "metadata": {
    "execution": {
     "iopub.execute_input": "2023-11-03T08:33:20.499981Z",
     "iopub.status.busy": "2023-11-03T08:33:20.499698Z",
     "iopub.status.idle": "2023-11-03T08:33:20.505150Z",
     "shell.execute_reply": "2023-11-03T08:33:20.504366Z"
    },
    "papermill": {
     "duration": 0.013384,
     "end_time": "2023-11-03T08:33:20.507030",
     "exception": false,
     "start_time": "2023-11-03T08:33:20.493646",
     "status": "completed"
    },
    "tags": []
   },
   "outputs": [],
   "source": [
    "def calculate_metrics(labels, preds):\n",
    "    num_correct = 0\n",
    "    num_pixels = 0\n",
    "    dice_score = 0\n",
    "    \n",
    "    for label, pred in zip(labels, preds):\n",
    "        num_correct += (pred == label).sum()\n",
    "        num_pixels += torch.numel(pred)\n",
    "        \n",
    "        dice_score += (2 * (pred * label).sum()) / ((pred + label).sum() + 1e-8)\n",
    "        \n",
    "    acc = num_correct / num_pixels\n",
    "    dice_score /= len(preds)\n",
    "    \n",
    "    return acc, dice_score"
   ]
  },
  {
   "cell_type": "code",
   "execution_count": 9,
   "id": "e893b91f",
   "metadata": {
    "execution": {
     "iopub.execute_input": "2023-11-03T08:33:20.519048Z",
     "iopub.status.busy": "2023-11-03T08:33:20.518778Z",
     "iopub.status.idle": "2023-11-03T08:33:20.526511Z",
     "shell.execute_reply": "2023-11-03T08:33:20.525706Z"
    },
    "papermill": {
     "duration": 0.015758,
     "end_time": "2023-11-03T08:33:20.528423",
     "exception": false,
     "start_time": "2023-11-03T08:33:20.512665",
     "status": "completed"
    },
    "tags": []
   },
   "outputs": [],
   "source": [
    "def train(dataloader, model, loss_fn, optimizer):\n",
    "    model.train()\n",
    "    \n",
    "    total_loss = 0.0\n",
    "    all_preds = []\n",
    "    all_masks = []\n",
    "\n",
    "    loop = tqdm(dataloader)\n",
    "    for index, (imgs, masks) in enumerate(loop):\n",
    "        imgs = imgs.to(DEVICE)\n",
    "        masks = masks.to(DEVICE)\n",
    "        masks = masks.float().unsqueeze(1)  # adding the channel dimension\n",
    "\n",
    "        optimizer.zero_grad()\n",
    "\n",
    "        out = model(imgs)\n",
    "        loss = loss_fn(out, masks)\n",
    "\n",
    "        loss.backward()\n",
    "        optimizer.step()\n",
    "        \n",
    "        total_loss += loss.cpu().item()\n",
    "        \n",
    "        preds = torch.sigmoid(out)\n",
    "        preds = (preds > 0.5).float()\n",
    "        all_preds.extend(preds.cpu())\n",
    "        all_masks.extend(masks.cpu())\n",
    "        \n",
    "        loop.set_postfix(loss=loss.item())\n",
    "    \n",
    "    avg_loss = total_loss / len(dataloader)\n",
    "    acc, dice_score = calculate_metrics(all_masks, all_preds)\n",
    "    return avg_loss, acc, dice_score"
   ]
  },
  {
   "cell_type": "code",
   "execution_count": 10,
   "id": "c12f542b",
   "metadata": {
    "execution": {
     "iopub.execute_input": "2023-11-03T08:33:20.540505Z",
     "iopub.status.busy": "2023-11-03T08:33:20.540235Z",
     "iopub.status.idle": "2023-11-03T08:33:20.547604Z",
     "shell.execute_reply": "2023-11-03T08:33:20.546854Z"
    },
    "papermill": {
     "duration": 0.015534,
     "end_time": "2023-11-03T08:33:20.549545",
     "exception": false,
     "start_time": "2023-11-03T08:33:20.534011",
     "status": "completed"
    },
    "tags": []
   },
   "outputs": [],
   "source": [
    "def evaluate(dataloader, model, loss_fn):\n",
    "    model.eval()\n",
    "    \n",
    "    total_loss = 0.0\n",
    "    all_preds = []\n",
    "    all_masks = []\n",
    "    with torch.no_grad():\n",
    "        loop = tqdm(dataloader)\n",
    "        for imgs, masks in loop:\n",
    "            imgs = imgs.to(DEVICE)\n",
    "            masks = masks.float().unsqueeze(1).to(DEVICE)\n",
    "\n",
    "            out = model(imgs)\n",
    "            loss = loss_fn(out, masks)\n",
    "            total_loss += loss.cpu().item()\n",
    "            \n",
    "            preds = torch.sigmoid(out)\n",
    "            preds = (preds > 0.5).float()\n",
    "            all_preds.extend(preds.cpu())\n",
    "            all_masks.extend(masks.cpu())\n",
    "            \n",
    "            loop.set_postfix(loss=loss.item())\n",
    "\n",
    "    avg_loss = total_loss / len(dataloader)\n",
    "    acc, dice_score = calculate_metrics(all_masks, all_preds)\n",
    "\n",
    "    # print(f'Got correct {num_correct} out of all {num_pixels} pixels. Accuracy = {acc * 100:.2f}')\n",
    "    # print(f'Dice score = {dice_score}')\n",
    "    return avg_loss, acc, dice_score"
   ]
  },
  {
   "cell_type": "code",
   "execution_count": 11,
   "id": "c1a8c618",
   "metadata": {
    "execution": {
     "iopub.execute_input": "2023-11-03T08:33:20.561301Z",
     "iopub.status.busy": "2023-11-03T08:33:20.561041Z",
     "iopub.status.idle": "2023-11-03T08:33:21.003222Z",
     "shell.execute_reply": "2023-11-03T08:33:21.002432Z"
    },
    "papermill": {
     "duration": 0.450598,
     "end_time": "2023-11-03T08:33:21.005581",
     "exception": false,
     "start_time": "2023-11-03T08:33:20.554983",
     "status": "completed"
    },
    "tags": []
   },
   "outputs": [],
   "source": [
    "train_dataset = MyDataset(TRAIN_IMG_DIR,\n",
    "                          TRAIN_MASK_DIR,\n",
    "                          transform=train_transforms,\n",
    "                          random_state=42)\n",
    "val_dataset = MyDataset(VAL_IMG_DIR,\n",
    "                        VAL_MASK_DIR,\n",
    "                        transform=val_transforms,\n",
    "                        random_state=42)\n",
    "\n",
    "train_loader = DataLoader(train_dataset, batch_size=BATCH_SIZE, shuffle=True)\n",
    "val_loader = DataLoader(val_dataset, batch_size=BATCH_SIZE, shuffle=False)"
   ]
  },
  {
   "cell_type": "code",
   "execution_count": 12,
   "id": "4e4e5d09",
   "metadata": {
    "execution": {
     "iopub.execute_input": "2023-11-03T08:33:21.018099Z",
     "iopub.status.busy": "2023-11-03T08:33:21.017757Z",
     "iopub.status.idle": "2023-11-03T08:33:24.231368Z",
     "shell.execute_reply": "2023-11-03T08:33:24.230428Z"
    },
    "papermill": {
     "duration": 3.222364,
     "end_time": "2023-11-03T08:33:24.233754",
     "exception": false,
     "start_time": "2023-11-03T08:33:21.011390",
     "status": "completed"
    },
    "tags": []
   },
   "outputs": [],
   "source": [
    "model = UNet(in_channels=3, out_channels=1, random_state=42).to(DEVICE)\n",
    "loss_fn = nn.BCEWithLogitsLoss()\n",
    "optimizer = torch.optim.Adam(model.parameters(), lr=LEARNING_RATE, weight_decay=1e-4)"
   ]
  },
  {
   "cell_type": "code",
   "execution_count": 13,
   "id": "b3e7b809",
   "metadata": {
    "execution": {
     "iopub.execute_input": "2023-11-03T08:33:24.247483Z",
     "iopub.status.busy": "2023-11-03T08:33:24.247173Z",
     "iopub.status.idle": "2023-11-03T08:33:24.256659Z",
     "shell.execute_reply": "2023-11-03T08:33:24.255777Z"
    },
    "papermill": {
     "duration": 0.018039,
     "end_time": "2023-11-03T08:33:24.258550",
     "exception": false,
     "start_time": "2023-11-03T08:33:24.240511",
     "status": "completed"
    },
    "tags": []
   },
   "outputs": [],
   "source": [
    "def run_training(train_loader, val_loader, model, loss_fn, optimizer, patience=PATIENCE, epochs=EPOCHS):\n",
    "    losses = {'train': [], 'val': []}\n",
    "    accuracies = {'train': [], 'val': []}\n",
    "    dice_scores = {'train': [], 'val': []}\n",
    "    best_dice_score = 0.0\n",
    "    \n",
    "    for epoch in range(epochs):\n",
    "        train_loss, train_acc, train_dice = train(train_loader, model, loss_fn, optimizer)\n",
    "        losses['train'].append(train_loss)\n",
    "        accuracies['train'].append(train_acc)\n",
    "        dice_scores['train'].append(train_dice)\n",
    "\n",
    "        val_loss, val_acc, val_dice = evaluate(val_loader, model, loss_fn)\n",
    "        losses['val'].append(val_loss)\n",
    "        accuracies['val'].append(val_acc)\n",
    "        dice_scores['val'].append(val_dice)\n",
    "\n",
    "        print(f'Epoch {epoch + 1}\\n\\tTrain Loss: {train_loss} | '\n",
    "              f'Validation Loss: {val_loss}\\n\\tTrain Accuracy: {train_acc} | '\n",
    "              f'Validation accuracy: {val_acc}\\n\\tTrain dice score: {train_dice} | '\n",
    "              f'Validation dice score: {val_dice}')\n",
    "        \n",
    "        if val_dice > best_dice_score:\n",
    "            best_dice_score = val_dice\n",
    "            counter = 0\n",
    "            print(f'\\t...Saving Best Model at Epoch {epoch + 1}...')\n",
    "            torch.save(model.state_dict(), 'best_model.pt')\n",
    "        else:\n",
    "            counter += 1\n",
    "            if counter > patience:\n",
    "                print(f'Early Stopping at epoch {epoch + 1}...')\n",
    "                break\n",
    "    \n",
    "    print('Training Complete!')\n",
    "    return losses, accuracies, dice_scores"
   ]
  },
  {
   "cell_type": "code",
   "execution_count": 14,
   "id": "7ee62f3a",
   "metadata": {
    "execution": {
     "iopub.execute_input": "2023-11-03T08:33:24.270296Z",
     "iopub.status.busy": "2023-11-03T08:33:24.270024Z",
     "iopub.status.idle": "2023-11-03T10:55:28.293716Z",
     "shell.execute_reply": "2023-11-03T10:55:28.292437Z"
    },
    "papermill": {
     "duration": 8524.032168,
     "end_time": "2023-11-03T10:55:28.296082",
     "exception": false,
     "start_time": "2023-11-03T08:33:24.263914",
     "status": "completed"
    },
    "tags": []
   },
   "outputs": [
    {
     "name": "stderr",
     "output_type": "stream",
     "text": [
      "100%|██████████| 128/128 [03:41<00:00,  1.73s/it, loss=0.188]\n",
      "100%|██████████| 32/32 [00:42<00:00,  1.34s/it, loss=0.181]\n"
     ]
    },
    {
     "name": "stdout",
     "output_type": "stream",
     "text": [
      "Epoch 1\n",
      "\tTrain Loss: 0.2577784302411601 | Validation Loss: 0.18158018868416548\n",
      "\tTrain Accuracy: 0.965778648853302 | Validation accuracy: 0.9896602630615234\n",
      "\tTrain dice score: 0.9266464710235596 | Validation dice score: 0.975892186164856\n",
      "\t...Saving Best Model at Epoch 1...\n"
     ]
    },
    {
     "name": "stderr",
     "output_type": "stream",
     "text": [
      "100%|██████████| 128/128 [03:04<00:00,  1.44s/it, loss=0.146]\n",
      "100%|██████████| 32/32 [00:35<00:00,  1.12s/it, loss=0.138]\n"
     ]
    },
    {
     "name": "stdout",
     "output_type": "stream",
     "text": [
      "Epoch 2\n",
      "\tTrain Loss: 0.1636796344537288 | Validation Loss: 0.13805013336241245\n",
      "\tTrain Accuracy: 0.9890753626823425 | Validation accuracy: 0.992098867893219\n",
      "\tTrain dice score: 0.9741272926330566 | Validation dice score: 0.9815242290496826\n",
      "\t...Saving Best Model at Epoch 2...\n"
     ]
    },
    {
     "name": "stderr",
     "output_type": "stream",
     "text": [
      "100%|██████████| 128/128 [03:05<00:00,  1.45s/it, loss=0.114]\n",
      "100%|██████████| 32/32 [00:36<00:00,  1.13s/it, loss=0.112]\n"
     ]
    },
    {
     "name": "stdout",
     "output_type": "stream",
     "text": [
      "Epoch 3\n",
      "\tTrain Loss: 0.12704654346453026 | Validation Loss: 0.1125458765309304\n",
      "\tTrain Accuracy: 0.9909771680831909 | Validation accuracy: 0.9910351037979126\n",
      "\tTrain dice score: 0.9785746335983276 | Validation dice score: 0.9792307019233704\n"
     ]
    },
    {
     "name": "stderr",
     "output_type": "stream",
     "text": [
      "100%|██████████| 128/128 [03:04<00:00,  1.44s/it, loss=0.0956]\n",
      "100%|██████████| 32/32 [00:34<00:00,  1.09s/it, loss=0.128]\n"
     ]
    },
    {
     "name": "stdout",
     "output_type": "stream",
     "text": [
      "Epoch 4\n",
      "\tTrain Loss: 0.10285328677855432 | Validation Loss: 0.12774438317865133\n",
      "\tTrain Accuracy: 0.991384744644165 | Validation accuracy: 0.9745835661888123\n",
      "\tTrain dice score: 0.9796657562255859 | Validation dice score: 0.9412696957588196\n"
     ]
    },
    {
     "name": "stderr",
     "output_type": "stream",
     "text": [
      "100%|██████████| 128/128 [03:05<00:00,  1.45s/it, loss=0.0756]\n",
      "100%|██████████| 32/32 [00:36<00:00,  1.14s/it, loss=0.0746]\n"
     ]
    },
    {
     "name": "stdout",
     "output_type": "stream",
     "text": [
      "Epoch 5\n",
      "\tTrain Loss: 0.0841504767886363 | Validation Loss: 0.0784988054074347\n",
      "\tTrain Accuracy: 0.9920423626899719 | Validation accuracy: 0.990994393825531\n",
      "\tTrain dice score: 0.9811357259750366 | Validation dice score: 0.9795997738838196\n"
     ]
    },
    {
     "name": "stderr",
     "output_type": "stream",
     "text": [
      "100%|██████████| 128/128 [03:05<00:00,  1.45s/it, loss=0.0632]\n",
      "100%|██████████| 32/32 [00:35<00:00,  1.10s/it, loss=0.0615]\n"
     ]
    },
    {
     "name": "stdout",
     "output_type": "stream",
     "text": [
      "Epoch 6\n",
      "\tTrain Loss: 0.06961415315163322 | Validation Loss: 0.06170685775578022\n",
      "\tTrain Accuracy: 0.9927585124969482 | Validation accuracy: 0.9946004152297974\n",
      "\tTrain dice score: 0.9827769994735718 | Validation dice score: 0.9873651266098022\n",
      "\t...Saving Best Model at Epoch 6...\n"
     ]
    },
    {
     "name": "stderr",
     "output_type": "stream",
     "text": [
      "100%|██████████| 128/128 [03:06<00:00,  1.45s/it, loss=0.0578]\n",
      "100%|██████████| 32/32 [00:35<00:00,  1.12s/it, loss=0.0527]\n"
     ]
    },
    {
     "name": "stdout",
     "output_type": "stream",
     "text": [
      "Epoch 7\n",
      "\tTrain Loss: 0.05832099076360464 | Validation Loss: 0.0526899624383077\n",
      "\tTrain Accuracy: 0.9934021234512329 | Validation accuracy: 0.9944477677345276\n",
      "\tTrain dice score: 0.984279215335846 | Validation dice score: 0.9870709180831909\n"
     ]
    },
    {
     "name": "stderr",
     "output_type": "stream",
     "text": [
      "100%|██████████| 128/128 [03:09<00:00,  1.48s/it, loss=0.0435]\n",
      "100%|██████████| 32/32 [00:35<00:00,  1.12s/it, loss=0.0439]\n"
     ]
    },
    {
     "name": "stdout",
     "output_type": "stream",
     "text": [
      "Epoch 8\n",
      "\tTrain Loss: 0.05025835786364041 | Validation Loss: 0.04418435331899673\n",
      "\tTrain Accuracy: 0.9935908913612366 | Validation accuracy: 0.9948588013648987\n",
      "\tTrain dice score: 0.9847229719161987 | Validation dice score: 0.9880311489105225\n",
      "\t...Saving Best Model at Epoch 8...\n"
     ]
    },
    {
     "name": "stderr",
     "output_type": "stream",
     "text": [
      "100%|██████████| 128/128 [03:09<00:00,  1.48s/it, loss=0.0448]\n",
      "100%|██████████| 32/32 [00:36<00:00,  1.15s/it, loss=0.0399]\n"
     ]
    },
    {
     "name": "stdout",
     "output_type": "stream",
     "text": [
      "Epoch 9\n",
      "\tTrain Loss: 0.04348143783863634 | Validation Loss: 0.03967127401847392\n",
      "\tTrain Accuracy: 0.9939863085746765 | Validation accuracy: 0.9947121739387512\n",
      "\tTrain dice score: 0.9857186675071716 | Validation dice score: 0.9875041246414185\n"
     ]
    },
    {
     "name": "stderr",
     "output_type": "stream",
     "text": [
      "100%|██████████| 128/128 [03:09<00:00,  1.48s/it, loss=0.0388]\n",
      "100%|██████████| 32/32 [00:37<00:00,  1.18s/it, loss=0.0362]\n"
     ]
    },
    {
     "name": "stdout",
     "output_type": "stream",
     "text": [
      "Epoch 10\n",
      "\tTrain Loss: 0.03992873465176672 | Validation Loss: 0.036037967540323734\n",
      "\tTrain Accuracy: 0.993546187877655 | Validation accuracy: 0.9949803352355957\n",
      "\tTrain dice score: 0.9846501350402832 | Validation dice score: 0.9882273077964783\n",
      "\t...Saving Best Model at Epoch 10...\n"
     ]
    },
    {
     "name": "stderr",
     "output_type": "stream",
     "text": [
      "100%|██████████| 128/128 [03:10<00:00,  1.49s/it, loss=0.0374]\n",
      "100%|██████████| 32/32 [00:36<00:00,  1.14s/it, loss=0.0306]\n"
     ]
    },
    {
     "name": "stdout",
     "output_type": "stream",
     "text": [
      "Epoch 11\n",
      "\tTrain Loss: 0.03492891548376065 | Validation Loss: 0.030605222622398287\n",
      "\tTrain Accuracy: 0.9940966367721558 | Validation accuracy: 0.9952046275138855\n",
      "\tTrain dice score: 0.9859989285469055 | Validation dice score: 0.9887309074401855\n",
      "\t...Saving Best Model at Epoch 11...\n"
     ]
    },
    {
     "name": "stderr",
     "output_type": "stream",
     "text": [
      "100%|██████████| 128/128 [03:08<00:00,  1.47s/it, loss=0.0298]\n",
      "100%|██████████| 32/32 [00:35<00:00,  1.11s/it, loss=0.0307]\n"
     ]
    },
    {
     "name": "stdout",
     "output_type": "stream",
     "text": [
      "Epoch 12\n",
      "\tTrain Loss: 0.03511915857961867 | Validation Loss: 0.03112749068532139\n",
      "\tTrain Accuracy: 0.9928642511367798 | Validation accuracy: 0.9944052696228027\n",
      "\tTrain dice score: 0.9831229448318481 | Validation dice score: 0.9868600964546204\n"
     ]
    },
    {
     "name": "stderr",
     "output_type": "stream",
     "text": [
      "100%|██████████| 128/128 [03:07<00:00,  1.46s/it, loss=0.029]\n",
      "100%|██████████| 32/32 [00:35<00:00,  1.12s/it, loss=0.025]\n"
     ]
    },
    {
     "name": "stdout",
     "output_type": "stream",
     "text": [
      "Epoch 13\n",
      "\tTrain Loss: 0.030504459180519916 | Validation Loss: 0.025285937765147537\n",
      "\tTrain Accuracy: 0.9937075972557068 | Validation accuracy: 0.9953060746192932\n",
      "\tTrain dice score: 0.9851037263870239 | Validation dice score: 0.9889790415763855\n",
      "\t...Saving Best Model at Epoch 13...\n"
     ]
    },
    {
     "name": "stderr",
     "output_type": "stream",
     "text": [
      "100%|██████████| 128/128 [03:06<00:00,  1.46s/it, loss=0.0274]\n",
      "100%|██████████| 32/32 [00:35<00:00,  1.11s/it, loss=0.0225]\n"
     ]
    },
    {
     "name": "stdout",
     "output_type": "stream",
     "text": [
      "Epoch 14\n",
      "\tTrain Loss: 0.026361482028733008 | Validation Loss: 0.02271928294794634\n",
      "\tTrain Accuracy: 0.9945794343948364 | Validation accuracy: 0.995698869228363\n",
      "\tTrain dice score: 0.9870971441268921 | Validation dice score: 0.9899476766586304\n",
      "\t...Saving Best Model at Epoch 14...\n"
     ]
    },
    {
     "name": "stderr",
     "output_type": "stream",
     "text": [
      "100%|██████████| 128/128 [03:06<00:00,  1.45s/it, loss=0.0228]\n",
      "100%|██████████| 32/32 [00:35<00:00,  1.10s/it, loss=0.0219]\n"
     ]
    },
    {
     "name": "stdout",
     "output_type": "stream",
     "text": [
      "Epoch 15\n",
      "\tTrain Loss: 0.02444336838379968 | Validation Loss: 0.02214111277135089\n",
      "\tTrain Accuracy: 0.9946708679199219 | Validation accuracy: 0.9955499172210693\n",
      "\tTrain dice score: 0.9872953295707703 | Validation dice score: 0.9896087050437927\n"
     ]
    },
    {
     "name": "stderr",
     "output_type": "stream",
     "text": [
      "100%|██████████| 128/128 [03:07<00:00,  1.46s/it, loss=0.0276]\n",
      "100%|██████████| 32/32 [00:35<00:00,  1.12s/it, loss=0.0219]\n"
     ]
    },
    {
     "name": "stdout",
     "output_type": "stream",
     "text": [
      "Epoch 16\n",
      "\tTrain Loss: 0.02399056710419245 | Validation Loss: 0.022171601362060755\n",
      "\tTrain Accuracy: 0.9942785501480103 | Validation accuracy: 0.9950810670852661\n",
      "\tTrain dice score: 0.9864460229873657 | Validation dice score: 0.9885491728782654\n"
     ]
    },
    {
     "name": "stderr",
     "output_type": "stream",
     "text": [
      "100%|██████████| 128/128 [03:04<00:00,  1.44s/it, loss=0.0219]\n",
      "100%|██████████| 32/32 [00:35<00:00,  1.12s/it, loss=0.0198]\n"
     ]
    },
    {
     "name": "stdout",
     "output_type": "stream",
     "text": [
      "Epoch 17\n",
      "\tTrain Loss: 0.023247825243743137 | Validation Loss: 0.020170511328615248\n",
      "\tTrain Accuracy: 0.9941034913063049 | Validation accuracy: 0.9950780868530273\n",
      "\tTrain dice score: 0.9860075116157532 | Validation dice score: 0.988379180431366\n"
     ]
    },
    {
     "name": "stderr",
     "output_type": "stream",
     "text": [
      "100%|██████████| 128/128 [03:04<00:00,  1.44s/it, loss=0.0193]\n",
      "100%|██████████| 32/32 [00:34<00:00,  1.08s/it, loss=0.0172]\n"
     ]
    },
    {
     "name": "stdout",
     "output_type": "stream",
     "text": [
      "Epoch 18\n",
      "\tTrain Loss: 0.020235143863828853 | Validation Loss: 0.017243406211491674\n",
      "\tTrain Accuracy: 0.9949065446853638 | Validation accuracy: 0.9960107803344727\n",
      "\tTrain dice score: 0.987870454788208 | Validation dice score: 0.9906190633773804\n",
      "\t...Saving Best Model at Epoch 18...\n"
     ]
    },
    {
     "name": "stderr",
     "output_type": "stream",
     "text": [
      "100%|██████████| 128/128 [03:04<00:00,  1.44s/it, loss=0.0194]\n",
      "100%|██████████| 32/32 [00:35<00:00,  1.11s/it, loss=0.0162]\n"
     ]
    },
    {
     "name": "stdout",
     "output_type": "stream",
     "text": [
      "Epoch 19\n",
      "\tTrain Loss: 0.01882452364952769 | Validation Loss: 0.016173455980606377\n",
      "\tTrain Accuracy: 0.9951261281967163 | Validation accuracy: 0.9962109327316284\n",
      "\tTrain dice score: 0.9883936047554016 | Validation dice score: 0.9911085367202759\n",
      "\t...Saving Best Model at Epoch 19...\n"
     ]
    },
    {
     "name": "stderr",
     "output_type": "stream",
     "text": [
      "100%|██████████| 128/128 [03:03<00:00,  1.43s/it, loss=0.0187]\n",
      "100%|██████████| 32/32 [00:35<00:00,  1.10s/it, loss=0.015]\n"
     ]
    },
    {
     "name": "stdout",
     "output_type": "stream",
     "text": [
      "Epoch 20\n",
      "\tTrain Loss: 0.017863899964140728 | Validation Loss: 0.01518355798907578\n",
      "\tTrain Accuracy: 0.9952126145362854 | Validation accuracy: 0.99620521068573\n",
      "\tTrain dice score: 0.988600492477417 | Validation dice score: 0.9911086559295654\n",
      "\t...Saving Best Model at Epoch 20...\n"
     ]
    },
    {
     "name": "stderr",
     "output_type": "stream",
     "text": [
      "100%|██████████| 128/128 [03:04<00:00,  1.44s/it, loss=0.0209]\n",
      "100%|██████████| 32/32 [00:35<00:00,  1.11s/it, loss=0.0179]\n"
     ]
    },
    {
     "name": "stdout",
     "output_type": "stream",
     "text": [
      "Epoch 21\n",
      "\tTrain Loss: 0.020201198596623726 | Validation Loss: 0.01831654564011842\n",
      "\tTrain Accuracy: 0.9940747618675232 | Validation accuracy: 0.9951843619346619\n",
      "\tTrain dice score: 0.9859052896499634 | Validation dice score: 0.9887064099311829\n"
     ]
    },
    {
     "name": "stderr",
     "output_type": "stream",
     "text": [
      "100%|██████████| 128/128 [03:03<00:00,  1.43s/it, loss=0.0214]\n",
      "100%|██████████| 32/32 [00:35<00:00,  1.11s/it, loss=0.0401]\n"
     ]
    },
    {
     "name": "stdout",
     "output_type": "stream",
     "text": [
      "Epoch 22\n",
      "\tTrain Loss: 0.019508401688653976 | Validation Loss: 0.04275444825179875\n",
      "\tTrain Accuracy: 0.99406498670578 | Validation accuracy: 0.9868117570877075\n",
      "\tTrain dice score: 0.9859015345573425 | Validation dice score: 0.9703564047813416\n"
     ]
    },
    {
     "name": "stderr",
     "output_type": "stream",
     "text": [
      "100%|██████████| 128/128 [03:03<00:00,  1.44s/it, loss=0.0157]\n",
      "100%|██████████| 32/32 [00:35<00:00,  1.10s/it, loss=0.0142]\n"
     ]
    },
    {
     "name": "stdout",
     "output_type": "stream",
     "text": [
      "Epoch 23\n",
      "\tTrain Loss: 0.018353329127421603 | Validation Loss: 0.014431023882934824\n",
      "\tTrain Accuracy: 0.9942898154258728 | Validation accuracy: 0.9959948062896729\n",
      "\tTrain dice score: 0.9863883256912231 | Validation dice score: 0.9905677437782288\n"
     ]
    },
    {
     "name": "stderr",
     "output_type": "stream",
     "text": [
      "100%|██████████| 128/128 [03:06<00:00,  1.46s/it, loss=0.0146]\n",
      "100%|██████████| 32/32 [00:35<00:00,  1.12s/it, loss=0.0138]\n"
     ]
    },
    {
     "name": "stdout",
     "output_type": "stream",
     "text": [
      "Epoch 24\n",
      "\tTrain Loss: 0.01615913773275679 | Validation Loss: 0.013671793072717264\n",
      "\tTrain Accuracy: 0.9950003027915955 | Validation accuracy: 0.9960299134254456\n",
      "\tTrain dice score: 0.9880625009536743 | Validation dice score: 0.9906802177429199\n"
     ]
    },
    {
     "name": "stderr",
     "output_type": "stream",
     "text": [
      "100%|██████████| 128/128 [03:04<00:00,  1.44s/it, loss=0.0174]\n",
      "100%|██████████| 32/32 [00:35<00:00,  1.11s/it, loss=0.0125]\n"
     ]
    },
    {
     "name": "stdout",
     "output_type": "stream",
     "text": [
      "Epoch 25\n",
      "\tTrain Loss: 0.01542134928604355 | Validation Loss: 0.012716285535134375\n",
      "\tTrain Accuracy: 0.9951685070991516 | Validation accuracy: 0.9962555170059204\n",
      "\tTrain dice score: 0.9884809851646423 | Validation dice score: 0.9912208914756775\n",
      "\t...Saving Best Model at Epoch 25...\n"
     ]
    },
    {
     "name": "stderr",
     "output_type": "stream",
     "text": [
      "100%|██████████| 128/128 [03:04<00:00,  1.44s/it, loss=0.0147]\n",
      "100%|██████████| 32/32 [00:34<00:00,  1.09s/it, loss=0.0119]\n"
     ]
    },
    {
     "name": "stdout",
     "output_type": "stream",
     "text": [
      "Epoch 26\n",
      "\tTrain Loss: 0.014576677647710312 | Validation Loss: 0.012153098970884457\n",
      "\tTrain Accuracy: 0.9953651428222656 | Validation accuracy: 0.9962984919548035\n",
      "\tTrain dice score: 0.9889484643936157 | Validation dice score: 0.9913121461868286\n",
      "\t...Saving Best Model at Epoch 26...\n"
     ]
    },
    {
     "name": "stderr",
     "output_type": "stream",
     "text": [
      "100%|██████████| 128/128 [03:05<00:00,  1.45s/it, loss=0.0156]\n",
      "100%|██████████| 32/32 [00:35<00:00,  1.12s/it, loss=0.0124]\n"
     ]
    },
    {
     "name": "stdout",
     "output_type": "stream",
     "text": [
      "Epoch 27\n",
      "\tTrain Loss: 0.01416080058697844 | Validation Loss: 0.01242609607288614\n",
      "\tTrain Accuracy: 0.9954226016998291 | Validation accuracy: 0.9960675835609436\n",
      "\tTrain dice score: 0.9890586137771606 | Validation dice score: 0.9907552599906921\n"
     ]
    },
    {
     "name": "stderr",
     "output_type": "stream",
     "text": [
      "100%|██████████| 128/128 [03:07<00:00,  1.46s/it, loss=0.0146]\n",
      "100%|██████████| 32/32 [00:35<00:00,  1.11s/it, loss=0.0112]\n"
     ]
    },
    {
     "name": "stdout",
     "output_type": "stream",
     "text": [
      "Epoch 28\n",
      "\tTrain Loss: 0.01375499292043969 | Validation Loss: 0.01151314508751966\n",
      "\tTrain Accuracy: 0.9954773783683777 | Validation accuracy: 0.9964526295661926\n",
      "\tTrain dice score: 0.9892137050628662 | Validation dice score: 0.9916736483573914\n",
      "\t...Saving Best Model at Epoch 28...\n"
     ]
    },
    {
     "name": "stderr",
     "output_type": "stream",
     "text": [
      "100%|██████████| 128/128 [03:06<00:00,  1.45s/it, loss=0.0134]\n",
      "100%|██████████| 32/32 [00:35<00:00,  1.12s/it, loss=0.0108]\n"
     ]
    },
    {
     "name": "stdout",
     "output_type": "stream",
     "text": [
      "Epoch 29\n",
      "\tTrain Loss: 0.013482913040206768 | Validation Loss: 0.011155632353620604\n",
      "\tTrain Accuracy: 0.9954881072044373 | Validation accuracy: 0.9965400099754333\n",
      "\tTrain dice score: 0.9892613291740417 | Validation dice score: 0.9918795824050903\n",
      "\t...Saving Best Model at Epoch 29...\n"
     ]
    },
    {
     "name": "stderr",
     "output_type": "stream",
     "text": [
      "100%|██████████| 128/128 [03:06<00:00,  1.45s/it, loss=0.012]\n",
      "100%|██████████| 32/32 [00:35<00:00,  1.12s/it, loss=0.0105]\n"
     ]
    },
    {
     "name": "stdout",
     "output_type": "stream",
     "text": [
      "Epoch 30\n",
      "\tTrain Loss: 0.013018884179473389 | Validation Loss: 0.010718278557760641\n",
      "\tTrain Accuracy: 0.995583713054657 | Validation accuracy: 0.9966241121292114\n",
      "\tTrain dice score: 0.9894750714302063 | Validation dice score: 0.9920803308486938\n",
      "\t...Saving Best Model at Epoch 30...\n"
     ]
    },
    {
     "name": "stderr",
     "output_type": "stream",
     "text": [
      "100%|██████████| 128/128 [03:06<00:00,  1.46s/it, loss=0.0137]\n",
      "100%|██████████| 32/32 [00:35<00:00,  1.11s/it, loss=0.0177]\n"
     ]
    },
    {
     "name": "stdout",
     "output_type": "stream",
     "text": [
      "Epoch 31\n",
      "\tTrain Loss: 0.012816326197935268 | Validation Loss: 0.026310857094358653\n",
      "\tTrain Accuracy: 0.995593249797821 | Validation accuracy: 0.992773711681366\n",
      "\tTrain dice score: 0.989499568939209 | Validation dice score: 0.9822725057601929\n"
     ]
    },
    {
     "name": "stderr",
     "output_type": "stream",
     "text": [
      "100%|██████████| 128/128 [03:07<00:00,  1.47s/it, loss=0.0233]\n",
      "100%|██████████| 32/32 [00:35<00:00,  1.11s/it, loss=0.339]\n"
     ]
    },
    {
     "name": "stdout",
     "output_type": "stream",
     "text": [
      "Epoch 32\n",
      "\tTrain Loss: 0.023127566877519712 | Validation Loss: 0.33963057212531567\n",
      "\tTrain Accuracy: 0.9919491410255432 | Validation accuracy: 0.866464376449585\n",
      "\tTrain dice score: 0.9809176921844482 | Validation dice score: 0.768837034702301\n"
     ]
    },
    {
     "name": "stderr",
     "output_type": "stream",
     "text": [
      "100%|██████████| 128/128 [03:09<00:00,  1.48s/it, loss=0.0156]\n",
      "100%|██████████| 32/32 [00:35<00:00,  1.11s/it, loss=0.0114]\n"
     ]
    },
    {
     "name": "stdout",
     "output_type": "stream",
     "text": [
      "Epoch 33\n",
      "\tTrain Loss: 0.016470834707433823 | Validation Loss: 0.011746227857656777\n",
      "\tTrain Accuracy: 0.9940544366836548 | Validation accuracy: 0.996059238910675\n",
      "\tTrain dice score: 0.985878586769104 | Validation dice score: 0.9907767176628113\n"
     ]
    },
    {
     "name": "stderr",
     "output_type": "stream",
     "text": [
      "100%|██████████| 128/128 [03:10<00:00,  1.49s/it, loss=0.0131]\n",
      "100%|██████████| 32/32 [00:37<00:00,  1.18s/it, loss=0.0109]\n"
     ]
    },
    {
     "name": "stdout",
     "output_type": "stream",
     "text": [
      "Epoch 34\n",
      "\tTrain Loss: 0.013980778829136398 | Validation Loss: 0.01107649359619245\n",
      "\tTrain Accuracy: 0.9949598908424377 | Validation accuracy: 0.9962140917778015\n",
      "\tTrain dice score: 0.9879648089408875 | Validation dice score: 0.9910927414894104\n"
     ]
    },
    {
     "name": "stderr",
     "output_type": "stream",
     "text": [
      "100%|██████████| 128/128 [03:11<00:00,  1.49s/it, loss=0.0125]\n",
      "100%|██████████| 32/32 [00:35<00:00,  1.12s/it, loss=0.0108]\n"
     ]
    },
    {
     "name": "stdout",
     "output_type": "stream",
     "text": [
      "Epoch 35\n",
      "\tTrain Loss: 0.013304265492479317 | Validation Loss: 0.010816381749464199\n",
      "\tTrain Accuracy: 0.9951850175857544 | Validation accuracy: 0.9962523579597473\n",
      "\tTrain dice score: 0.9885420799255371 | Validation dice score: 0.9912168383598328\n"
     ]
    },
    {
     "name": "stderr",
     "output_type": "stream",
     "text": [
      "100%|██████████| 128/128 [03:09<00:00,  1.48s/it, loss=0.0156]\n",
      "100%|██████████| 32/32 [00:35<00:00,  1.12s/it, loss=0.0112]\n"
     ]
    },
    {
     "name": "stdout",
     "output_type": "stream",
     "text": [
      "Epoch 36\n",
      "\tTrain Loss: 0.012942537316121161 | Validation Loss: 0.01091417923453264\n",
      "\tTrain Accuracy: 0.995317280292511 | Validation accuracy: 0.9960705041885376\n",
      "\tTrain dice score: 0.9888699054718018 | Validation dice score: 0.99078768491745\n"
     ]
    },
    {
     "name": "stderr",
     "output_type": "stream",
     "text": [
      "100%|██████████| 128/128 [03:05<00:00,  1.45s/it, loss=0.0116]\n",
      "100%|██████████| 32/32 [00:35<00:00,  1.12s/it, loss=0.00997]\n"
     ]
    },
    {
     "name": "stdout",
     "output_type": "stream",
     "text": [
      "Epoch 37\n",
      "\tTrain Loss: 0.012337242900684942 | Validation Loss: 0.010029529599705711\n",
      "\tTrain Accuracy: 0.9954847693443298 | Validation accuracy: 0.996505618095398\n",
      "\tTrain dice score: 0.9892330169677734 | Validation dice score: 0.9918290972709656\n"
     ]
    },
    {
     "name": "stderr",
     "output_type": "stream",
     "text": [
      "100%|██████████| 128/128 [03:05<00:00,  1.45s/it, loss=0.0122]\n",
      "100%|██████████| 32/32 [00:35<00:00,  1.12s/it, loss=0.00947]"
     ]
    },
    {
     "name": "stdout",
     "output_type": "stream",
     "text": [
      "Epoch 38\n",
      "\tTrain Loss: 0.011965191260969732 | Validation Loss: 0.009604532911907881\n",
      "\tTrain Accuracy: 0.9955841302871704 | Validation accuracy: 0.996595025062561\n",
      "\tTrain dice score: 0.9894557595252991 | Validation dice score: 0.9920397996902466\n",
      "Early Stopping at epoch 38...\n",
      "Training Complete!\n"
     ]
    },
    {
     "name": "stderr",
     "output_type": "stream",
     "text": [
      "\n"
     ]
    }
   ],
   "source": [
    "losses, accuracies, dice_scores = run_training(train_loader,\n",
    "                                               val_loader,\n",
    "                                               model=model,\n",
    "                                               loss_fn=loss_fn,\n",
    "                                               optimizer=optimizer)"
   ]
  },
  {
   "cell_type": "code",
   "execution_count": 15,
   "id": "b089d7ab",
   "metadata": {
    "execution": {
     "iopub.execute_input": "2023-11-03T10:55:30.254754Z",
     "iopub.status.busy": "2023-11-03T10:55:30.254399Z",
     "iopub.status.idle": "2023-11-03T10:55:30.258902Z",
     "shell.execute_reply": "2023-11-03T10:55:30.258025Z"
    },
    "papermill": {
     "duration": 0.945204,
     "end_time": "2023-11-03T10:55:30.260922",
     "exception": false,
     "start_time": "2023-11-03T10:55:29.315718",
     "status": "completed"
    },
    "tags": []
   },
   "outputs": [],
   "source": [
    "n_epochs = len(losses['train'])"
   ]
  },
  {
   "cell_type": "code",
   "execution_count": 16,
   "id": "4415c910",
   "metadata": {
    "execution": {
     "iopub.execute_input": "2023-11-03T10:55:32.191410Z",
     "iopub.status.busy": "2023-11-03T10:55:32.191077Z",
     "iopub.status.idle": "2023-11-03T10:55:32.200900Z",
     "shell.execute_reply": "2023-11-03T10:55:32.200046Z"
    },
    "papermill": {
     "duration": 0.943344,
     "end_time": "2023-11-03T10:55:32.202721",
     "exception": false,
     "start_time": "2023-11-03T10:55:31.259377",
     "status": "completed"
    },
    "tags": []
   },
   "outputs": [],
   "source": [
    "def plot_graphs(losses, accuracies, dice_scores):\n",
    "    fig, ax = plt.subplots(3, 1, figsize=(12, 12))\n",
    "\n",
    "    ax[0].plot(np.arange(n_epochs) + 1, losses['train'], label='Train', c='blue')\n",
    "    ax[0].plot(np.arange(n_epochs) + 1, losses['val'], label='Validation', c='orange')\n",
    "    ax[0].set_ylabel('Loss', fontsize=14)\n",
    "    ax[0].legend()\n",
    "\n",
    "    ax[1].plot(np.arange(n_epochs) + 1, accuracies['train'], label='Train', c='blue')\n",
    "    ax[1].plot(np.arange(n_epochs) + 1, accuracies['val'], label='Validation', c='orange')\n",
    "    ax[1].set_ylabel('Accuracy', fontsize=14)\n",
    "    ax[1].legend()\n",
    "\n",
    "    ax[2].plot(np.arange(n_epochs) + 1, dice_scores['train'], label='Train', c='blue')\n",
    "    ax[2].plot(np.arange(n_epochs) + 1, dice_scores['val'], label='Validation', c='orange')\n",
    "    ax[2].set_ylabel('Dice score', fontsize=14)\n",
    "    ax[2].legend()\n",
    "\n",
    "    plt.xlabel('Epochs')\n",
    "    fig.suptitle('Training period', fontsize=16)\n",
    "    plt.tight_layout()\n",
    "    plt.show()"
   ]
  },
  {
   "cell_type": "code",
   "execution_count": 17,
   "id": "fa01e533",
   "metadata": {
    "execution": {
     "iopub.execute_input": "2023-11-03T10:55:34.133847Z",
     "iopub.status.busy": "2023-11-03T10:55:34.133303Z",
     "iopub.status.idle": "2023-11-03T10:55:35.071503Z",
     "shell.execute_reply": "2023-11-03T10:55:35.070529Z"
    },
    "papermill": {
     "duration": 1.938439,
     "end_time": "2023-11-03T10:55:35.073691",
     "exception": false,
     "start_time": "2023-11-03T10:55:33.135252",
     "status": "completed"
    },
    "tags": []
   },
   "outputs": [
    {
     "data": {
      "image/png": "[encoded data removed]",
      "text/plain": [
       "<Figure size 1200x1200 with 3 Axes>"
      ]
     },
     "metadata": {},
     "output_type": "display_data"
    }
   ],
   "source": [
    "plot_graphs(losses, accuracies, dice_scores)"
   ]
  },
  {
   "cell_type": "code",
   "execution_count": null,
   "id": "fb27d1ce",
   "metadata": {
    "papermill": {
     "duration": 0.93268,
     "end_time": "2023-11-03T10:55:36.939165",
     "exception": false,
     "start_time": "2023-11-03T10:55:36.006485",
     "status": "completed"
    },
    "tags": []
   },
   "outputs": [],
   "source": []
  }
 ],
 "metadata": {
  "kernelspec": {
   "display_name": "Python 3",
   "language": "python",
   "name": "python3"
  },
  "language_info": {
   "codemirror_mode": {
    "name": "ipython",
    "version": 3
   },
   "file_extension": ".py",
   "mimetype": "text/x-python",
   "name": "python",
   "nbconvert_exporter": "python",
   "pygments_lexer": "ipython3",
   "version": "3.10.12"
  },
  "papermill": {
   "default_parameters": {},
   "duration": 8549.265907,
   "end_time": "2023-11-03T10:55:40.527863",
   "environment_variables": {},
   "exception": null,
   "input_path": "__notebook__.ipynb",
   "output_path": "__notebook__.ipynb",
   "parameters": {},
   "start_time": "2023-11-03T08:33:11.261956",
   "version": "2.4.0"
  }
 },
 "nbformat": 4,
 "nbformat_minor": 5
}
